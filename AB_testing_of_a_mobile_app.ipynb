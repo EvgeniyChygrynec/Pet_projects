{
 "cells": [
  {
   "cell_type": "markdown",
   "id": "e2c19dc7",
   "metadata": {},
   "source": [
    "<h2><font style=\"font-weight:lighter\", color='960018'>Introduction</font></h2>"
   ]
  },
  {
   "cell_type": "markdown",
   "id": "1aa430aa",
   "metadata": {},
   "source": [
    "<font color='#3c3c3c'>\n",
    "The site launched an A/B test in order to increase income. The excel file contains raw data on the results of the experiment (userid), sample type (variantname) and income brought by the user (revenue).\n",
    "The task is to analyze the results of the experiment and write your recommendations.\n",
    "</font>"
   ]
  },
  {
   "cell_type": "markdown",
   "id": "40efb63c",
   "metadata": {},
   "source": [
    "<h2><font style=\"font-weight:lighter\", color='960018'>Import libraries and data</font></h2>"
   ]
  },
  {
   "cell_type": "code",
   "execution_count": 2,
   "id": "d9608ecc",
   "metadata": {},
   "outputs": [],
   "source": [
    "import pandas as pd\n",
    "import numpy as np\n",
    "\n",
    "import seaborn as sns\n",
    "import scipy.stats as stats\n",
    "import matplotlib.pyplot as plt"
   ]
  },
  {
   "cell_type": "markdown",
   "id": "febf7c05",
   "metadata": {},
   "source": [
    "<h4>Description of fields</h4>\n",
    "<br>\n",
    "<li>USER_ID - user ID</li>\n",
    "<li>VARIANT_NAME - sample type</li>\n",
    "<li>REVENUE - income brought by the user</li>"
   ]
  },
  {
   "cell_type": "code",
   "execution_count": 3,
   "id": "a1e9f5b2",
   "metadata": {},
   "outputs": [],
   "source": [
    "df = pd.read_csv('AB_Test_Results.csv')"
   ]
  },
  {
   "cell_type": "markdown",
   "id": "fe423250",
   "metadata": {},
   "source": [
    "<h2><font style=\"font-weight:lighter\", color='960018'>Exploratory data analysis</font></h2>"
   ]
  },
  {
   "cell_type": "code",
   "execution_count": 10,
   "id": "634b2cb2",
   "metadata": {},
   "outputs": [
    {
     "data": {
      "text/html": [
       "<div>\n",
       "<style scoped>\n",
       "    .dataframe tbody tr th:only-of-type {\n",
       "        vertical-align: middle;\n",
       "    }\n",
       "\n",
       "    .dataframe tbody tr th {\n",
       "        vertical-align: top;\n",
       "    }\n",
       "\n",
       "    .dataframe thead th {\n",
       "        text-align: right;\n",
       "    }\n",
       "</style>\n",
       "<table border=\"1\" class=\"dataframe\">\n",
       "  <thead>\n",
       "    <tr style=\"text-align: right;\">\n",
       "      <th></th>\n",
       "      <th>USER_ID</th>\n",
       "      <th>VARIANT_NAME</th>\n",
       "      <th>REVENUE</th>\n",
       "    </tr>\n",
       "  </thead>\n",
       "  <tbody>\n",
       "    <tr>\n",
       "      <th>0</th>\n",
       "      <td>737</td>\n",
       "      <td>variant</td>\n",
       "      <td>0.0</td>\n",
       "    </tr>\n",
       "    <tr>\n",
       "      <th>1</th>\n",
       "      <td>2423</td>\n",
       "      <td>control</td>\n",
       "      <td>0.0</td>\n",
       "    </tr>\n",
       "    <tr>\n",
       "      <th>2</th>\n",
       "      <td>9411</td>\n",
       "      <td>control</td>\n",
       "      <td>0.0</td>\n",
       "    </tr>\n",
       "    <tr>\n",
       "      <th>3</th>\n",
       "      <td>7311</td>\n",
       "      <td>control</td>\n",
       "      <td>0.0</td>\n",
       "    </tr>\n",
       "    <tr>\n",
       "      <th>4</th>\n",
       "      <td>6174</td>\n",
       "      <td>variant</td>\n",
       "      <td>0.0</td>\n",
       "    </tr>\n",
       "  </tbody>\n",
       "</table>\n",
       "</div>"
      ],
      "text/plain": [
       "   USER_ID VARIANT_NAME  REVENUE\n",
       "0      737      variant      0.0\n",
       "1     2423      control      0.0\n",
       "2     9411      control      0.0\n",
       "3     7311      control      0.0\n",
       "4     6174      variant      0.0"
      ]
     },
     "execution_count": 10,
     "metadata": {},
     "output_type": "execute_result"
    }
   ],
   "source": [
    "df.head()"
   ]
  },
  {
   "cell_type": "code",
   "execution_count": 9,
   "id": "602e72a3",
   "metadata": {},
   "outputs": [
    {
     "name": "stdout",
     "output_type": "stream",
     "text": [
      "Shape of DataFrame: (10000, 3)\n"
     ]
    }
   ],
   "source": [
    "print(f'Shape of DataFrame: {df.shape}')"
   ]
  },
  {
   "cell_type": "code",
   "execution_count": 11,
   "id": "9c9258a4",
   "metadata": {},
   "outputs": [
    {
     "name": "stdout",
     "output_type": "stream",
     "text": [
      "<class 'pandas.core.frame.DataFrame'>\n",
      "RangeIndex: 10000 entries, 0 to 9999\n",
      "Data columns (total 3 columns):\n",
      " #   Column        Non-Null Count  Dtype  \n",
      "---  ------        --------------  -----  \n",
      " 0   USER_ID       10000 non-null  int64  \n",
      " 1   VARIANT_NAME  10000 non-null  object \n",
      " 2   REVENUE       10000 non-null  float64\n",
      "dtypes: float64(1), int64(1), object(1)\n",
      "memory usage: 234.5+ KB\n"
     ]
    }
   ],
   "source": [
    "df.info()"
   ]
  },
  {
   "cell_type": "code",
   "execution_count": 18,
   "id": "7089cf46",
   "metadata": {},
   "outputs": [
    {
     "data": {
      "text/html": [
       "<div>\n",
       "<style scoped>\n",
       "    .dataframe tbody tr th:only-of-type {\n",
       "        vertical-align: middle;\n",
       "    }\n",
       "\n",
       "    .dataframe tbody tr th {\n",
       "        vertical-align: top;\n",
       "    }\n",
       "\n",
       "    .dataframe thead th {\n",
       "        text-align: right;\n",
       "    }\n",
       "</style>\n",
       "<table border=\"1\" class=\"dataframe\">\n",
       "  <thead>\n",
       "    <tr style=\"text-align: right;\">\n",
       "      <th></th>\n",
       "      <th>count</th>\n",
       "      <th>mean</th>\n",
       "      <th>std</th>\n",
       "      <th>min</th>\n",
       "      <th>25%</th>\n",
       "      <th>50%</th>\n",
       "      <th>75%</th>\n",
       "      <th>max</th>\n",
       "    </tr>\n",
       "  </thead>\n",
       "  <tbody>\n",
       "    <tr>\n",
       "      <th>USER_ID</th>\n",
       "      <td>10000.0</td>\n",
       "      <td>4981.080200</td>\n",
       "      <td>2890.590115</td>\n",
       "      <td>2.0</td>\n",
       "      <td>2468.75</td>\n",
       "      <td>4962.0</td>\n",
       "      <td>7511.5</td>\n",
       "      <td>10000.00</td>\n",
       "    </tr>\n",
       "    <tr>\n",
       "      <th>REVENUE</th>\n",
       "      <td>10000.0</td>\n",
       "      <td>0.099447</td>\n",
       "      <td>2.318529</td>\n",
       "      <td>0.0</td>\n",
       "      <td>0.00</td>\n",
       "      <td>0.0</td>\n",
       "      <td>0.0</td>\n",
       "      <td>196.01</td>\n",
       "    </tr>\n",
       "  </tbody>\n",
       "</table>\n",
       "</div>"
      ],
      "text/plain": [
       "           count         mean          std  min      25%     50%     75%  \\\n",
       "USER_ID  10000.0  4981.080200  2890.590115  2.0  2468.75  4962.0  7511.5   \n",
       "REVENUE  10000.0     0.099447     2.318529  0.0     0.00     0.0     0.0   \n",
       "\n",
       "              max  \n",
       "USER_ID  10000.00  \n",
       "REVENUE    196.01  "
      ]
     },
     "execution_count": 18,
     "metadata": {},
     "output_type": "execute_result"
    }
   ],
   "source": [
    "df.describe().T"
   ]
  },
  {
   "cell_type": "markdown",
   "id": "c34093b6",
   "metadata": {},
   "source": [
    "Сhecking for Null"
   ]
  },
  {
   "cell_type": "code",
   "execution_count": 13,
   "id": "80546e13",
   "metadata": {},
   "outputs": [
    {
     "data": {
      "text/plain": [
       "USER_ID         0\n",
       "VARIANT_NAME    0\n",
       "REVENUE         0\n",
       "dtype: int64"
      ]
     },
     "execution_count": 13,
     "metadata": {},
     "output_type": "execute_result"
    }
   ],
   "source": [
    "df.isnull().sum()"
   ]
  },
  {
   "cell_type": "code",
   "execution_count": 20,
   "id": "afc3852e",
   "metadata": {},
   "outputs": [
    {
     "data": {
      "text/plain": [
       "6324"
      ]
     },
     "execution_count": 20,
     "metadata": {},
     "output_type": "execute_result"
    }
   ],
   "source": [
    "df.USER_ID.nunique()"
   ]
  },
  {
   "cell_type": "markdown",
   "id": "c32d9ed8",
   "metadata": {},
   "source": [
    "The dataframe size is 10000 and the number of unique users is 6324, which means that there are users who fell into both versions"
   ]
  },
  {
   "cell_type": "code",
   "execution_count": 34,
   "id": "28d8e72d",
   "metadata": {},
   "outputs": [
    {
     "data": {
      "text/plain": [
       "1    4783\n",
       "2    1541\n",
       "Name: VARIANT_NAME, dtype: int64"
      ]
     },
     "execution_count": 34,
     "metadata": {},
     "output_type": "execute_result"
    }
   ],
   "source": [
    "df.groupby('USER_ID')['VARIANT_NAME'].nunique().value_counts()"
   ]
  },
  {
   "cell_type": "markdown",
   "id": "88141a17",
   "metadata": {},
   "source": [
    "As the result above shows there are 1541 user_ids are in two groups."
   ]
  },
  {
   "cell_type": "code",
   "execution_count": 35,
   "id": "b4b29ed2",
   "metadata": {},
   "outputs": [],
   "source": [
    "# we need keep the independent of two groups, so we keep thoes user_id in one group only\n",
    "single_id = (df.groupby('USER_ID')['VARIANT_NAME'].nunique() == 1)\n",
    "single_id = single_id[single_id]\n",
    "\n",
    "#the single users/data\n",
    "df = df[df['USER_ID'].isin(single_id.index)]"
   ]
  },
  {
   "cell_type": "code",
   "execution_count": 40,
   "id": "64b8e2a7",
   "metadata": {},
   "outputs": [
    {
     "name": "stdout",
     "output_type": "stream",
     "text": [
      "Shape of the cleared DataFrame: (6070, 3)\n"
     ]
    }
   ],
   "source": [
    "print(f'Shape of the cleared DataFrame: {df.shape}')"
   ]
  },
  {
   "cell_type": "code",
   "execution_count": 56,
   "id": "ee13a9a5",
   "metadata": {},
   "outputs": [],
   "source": [
    "quantity_of_users = df.groupby(['VARIANT_NAME']).agg({'USER_ID': 'count'})\n",
    "data = quantity_of_users.values.flatten()\n",
    "mylabels = ['old_version', 'new_version']"
   ]
  },
  {
   "cell_type": "code",
   "execution_count": 57,
   "id": "d75b5b73",
   "metadata": {
    "scrolled": false
   },
   "outputs": [
    {
     "data": {
      "image/png": "[encoded data removed]",
      "text/plain": [
       "<Figure size 576x576 with 1 Axes>"
      ]
     },
     "metadata": {},
     "output_type": "display_data"
    }
   ],
   "source": [
    "sns.set(rc={'figure.figsize':(8, 8)}) \n",
    "\n",
    "x = mylabels\n",
    "y = quantity_of_users.USER_ID\n",
    "\n",
    "fig, ax = plt.subplots()\n",
    "\n",
    "ax.bar(x, y, color=['darkblue', 'orange'], width = 0.4)\n",
    "\n",
    "for p in ax.patches:\n",
    "    percentage = '{:.1f}%'.format(data[0]/df.shape[0]*100)\n",
    "    ax.annotate(percentage,  \n",
    "                (p.get_x() + p.get_width() / 2., p.get_height()),\n",
    "                ha='center', \n",
    "                va='center',\n",
    "                xytext=(0, 10),\n",
    "                textcoords='offset points',\n",
    "                fontsize=14)\n",
    "\n",
    "plt.title('User ratio after data filtering', fontsize=18)\n",
    "\n",
    "plt.xlabel('Variant_name', fontsize=14)\n",
    "plt.ylabel('Number of users', fontsize=14)\n",
    "\n",
    "plt.xticks(fontsize=14)\n",
    "plt.yticks(fontsize=14);"
   ]
  },
  {
   "cell_type": "markdown",
   "id": "be4a330d",
   "metadata": {},
   "source": [
    "<h2><font style=\"font-weight:lighter\", color='960018'>Analysis</font></h2>\n",
    "\n",
    "We don't know what impact the new version might have, so we have to use a two-tailed test.\n",
    "To do this, set the standard base values and also create 2 hypotheses:\n",
    "\n",
    "α = 0.05<br>\n",
    "power = 0.8<br>\n",
    "<ul>\n",
    "<li>H0: there is no difference in mean between groups by group and countries</li>\n",
    "<li>H1: there is difference in mean between groups by group and countries</li>\n",
    "</ul>\n",
    "\n"
   ]
  },
  {
   "cell_type": "markdown",
   "id": "2b014570",
   "metadata": {},
   "source": [
    "Let's start with statistical tests for all users."
   ]
  },
  {
   "cell_type": "code",
   "execution_count": 59,
   "id": "f6a9c52c",
   "metadata": {},
   "outputs": [
    {
     "data": {
      "text/html": [
       "<div>\n",
       "<style scoped>\n",
       "    .dataframe tbody tr th:only-of-type {\n",
       "        vertical-align: middle;\n",
       "    }\n",
       "\n",
       "    .dataframe tbody tr th {\n",
       "        vertical-align: top;\n",
       "    }\n",
       "\n",
       "    .dataframe thead th {\n",
       "        text-align: right;\n",
       "    }\n",
       "</style>\n",
       "<table border=\"1\" class=\"dataframe\">\n",
       "  <thead>\n",
       "    <tr style=\"text-align: right;\">\n",
       "      <th></th>\n",
       "      <th>USER_ID</th>\n",
       "      <th>REVENUE</th>\n",
       "    </tr>\n",
       "    <tr>\n",
       "      <th>VARIANT_NAME</th>\n",
       "      <th></th>\n",
       "      <th></th>\n",
       "    </tr>\n",
       "  </thead>\n",
       "  <tbody>\n",
       "    <tr>\n",
       "      <th>control</th>\n",
       "      <td>3026</td>\n",
       "      <td>470.56</td>\n",
       "    </tr>\n",
       "    <tr>\n",
       "      <th>variant</th>\n",
       "      <td>3044</td>\n",
       "      <td>179.32</td>\n",
       "    </tr>\n",
       "  </tbody>\n",
       "</table>\n",
       "</div>"
      ],
      "text/plain": [
       "              USER_ID  REVENUE\n",
       "VARIANT_NAME                  \n",
       "control          3026   470.56\n",
       "variant          3044   179.32"
      ]
     },
     "execution_count": 59,
     "metadata": {},
     "output_type": "execute_result"
    }
   ],
   "source": [
    "df.groupby('VARIANT_NAME').agg({'USER_ID': 'count', 'REVENUE': 'sum'})"
   ]
  },
  {
   "cell_type": "code",
   "execution_count": 60,
   "id": "26b4e84a",
   "metadata": {},
   "outputs": [],
   "source": [
    "ab_info = [[3026, 3044], [471, 179]]"
   ]
  },
  {
   "cell_type": "markdown",
   "id": "2dff75bd",
   "metadata": {},
   "source": [
    "We will conduct several tests to compare the results, first of all I am interested in p_value, which makes it possible to determine the data obtained as a result of chance or regularity"
   ]
  },
  {
   "cell_type": "code",
   "execution_count": 65,
   "id": "8265f1a2",
   "metadata": {},
   "outputs": [
    {
     "name": "stdout",
     "output_type": "stream",
     "text": [
      " p_value is: 0.0\n",
      " degree of free: 1\n",
      " stat: 119.35247284054691\n",
      "\n"
     ]
    }
   ],
   "source": [
    "stat, p_value, dof, expected = stats.chi2_contingency(ab_info)\n",
    "prob = 0.8\n",
    "alpha = 0.05\n",
    "print(f' p_value is: {round(p_value, 2)}\\n degree of free: {dof}\\n stat: {stat}\\n')"
   ]
  },
  {
   "cell_type": "code",
   "execution_count": 66,
   "id": "42a33831",
   "metadata": {},
   "outputs": [
    {
     "name": "stdout",
     "output_type": "stream",
     "text": [
      " p_value is: 0.0\n",
      "\n"
     ]
    }
   ],
   "source": [
    "odd_ratio, p_value = stats.fisher_exact(ab_info)\n",
    "print(\" p_value is: \" + str(round(p_value, 2))+'\\n')"
   ]
  },
  {
   "cell_type": "markdown",
   "id": "59659196",
   "metadata": {},
   "source": [
    "Now let's leave only those users with a REVENUE > 0"
   ]
  },
  {
   "cell_type": "code",
   "execution_count": 67,
   "id": "d23365f3",
   "metadata": {},
   "outputs": [],
   "source": [
    "df_paying_user = df.loc[df[\"REVENUE\"] > 0]"
   ]
  },
  {
   "cell_type": "code",
   "execution_count": 83,
   "id": "4925858f",
   "metadata": {},
   "outputs": [],
   "source": [
    "paying_user = df_paying_user.groupby('VARIANT_NAME').agg({'USER_ID': 'count', 'REVENUE': 'sum'})"
   ]
  },
  {
   "cell_type": "code",
   "execution_count": 84,
   "id": "459685b0",
   "metadata": {},
   "outputs": [
    {
     "data": {
      "text/html": [
       "<div>\n",
       "<style scoped>\n",
       "    .dataframe tbody tr th:only-of-type {\n",
       "        vertical-align: middle;\n",
       "    }\n",
       "\n",
       "    .dataframe tbody tr th {\n",
       "        vertical-align: top;\n",
       "    }\n",
       "\n",
       "    .dataframe thead th {\n",
       "        text-align: right;\n",
       "    }\n",
       "</style>\n",
       "<table border=\"1\" class=\"dataframe\">\n",
       "  <thead>\n",
       "    <tr style=\"text-align: right;\">\n",
       "      <th></th>\n",
       "      <th>USER_ID</th>\n",
       "      <th>REVENUE</th>\n",
       "    </tr>\n",
       "    <tr>\n",
       "      <th>VARIANT_NAME</th>\n",
       "      <th></th>\n",
       "      <th></th>\n",
       "    </tr>\n",
       "  </thead>\n",
       "  <tbody>\n",
       "    <tr>\n",
       "      <th>control</th>\n",
       "      <td>54</td>\n",
       "      <td>470.56</td>\n",
       "    </tr>\n",
       "    <tr>\n",
       "      <th>variant</th>\n",
       "      <td>43</td>\n",
       "      <td>179.32</td>\n",
       "    </tr>\n",
       "  </tbody>\n",
       "</table>\n",
       "</div>"
      ],
      "text/plain": [
       "              USER_ID  REVENUE\n",
       "VARIANT_NAME                  \n",
       "control            54   470.56\n",
       "variant            43   179.32"
      ]
     },
     "execution_count": 84,
     "metadata": {},
     "output_type": "execute_result"
    }
   ],
   "source": [
    "paying_user"
   ]
  },
  {
   "cell_type": "code",
   "execution_count": 96,
   "id": "835bf78c",
   "metadata": {},
   "outputs": [
    {
     "data": {
      "image/png": "[encoded data removed]",
      "text/plain": [
       "<Figure size 576x432 with 1 Axes>"
      ]
     },
     "metadata": {},
     "output_type": "display_data"
    }
   ],
   "source": [
    "sns.set(rc={'figure.figsize':(8, 6)}) \n",
    "x = ['new_version', 'old_version']\n",
    "y = paying_user.REVENUE\n",
    "\n",
    "fig, ax = plt.subplots()\n",
    "\n",
    "ax.bar(x, y, color=['darkblue', 'orange'], width = 0.4)\n",
    "\n",
    "plt.title('Profit depending on the version', fontsize=18)\n",
    "\n",
    "plt.xlabel('Variant_name', fontsize=14)\n",
    "plt.ylabel('Number of users', fontsize=14)\n",
    "\n",
    "plt.xticks(fontsize=14)\n",
    "plt.yticks(fontsize=14);"
   ]
  },
  {
   "cell_type": "code",
   "execution_count": 81,
   "id": "412907df",
   "metadata": {},
   "outputs": [
    {
     "name": "stdout",
     "output_type": "stream",
     "text": [
      "Test Stat = 1030.0000, p-value = 0.3432\n"
     ]
    }
   ],
   "source": [
    "from scipy.stats import mannwhitneyu\n",
    "\n",
    "test_stat, pvalue = mannwhitneyu(df_paying_user.loc[(df_paying_user.VARIANT_NAME == 'variant'), 'REVENUE'], \n",
    "             df_paying_user.loc[(df_paying_user.VARIANT_NAME == 'control'), 'REVENUE'])\n",
    "print('Test Stat = %.4f, p-value = %.4f' % (test_stat, pvalue))"
   ]
  },
  {
   "cell_type": "markdown",
   "id": "03fce3c2",
   "metadata": {},
   "source": [
    "<h2><font style=\"font-weight:lighter\", color='960018'>Result</font></h2><br>\n",
    "The p value = 0.3432 which means we can reject H0, which means the new version has a statistical effect and the difference we saw is not just due to chance. Also from the graph you can see that the new version brought more profit compared to the old one."
   ]
  }
 ],
 "metadata": {
  "kernelspec": {
   "display_name": "Python 3 (ipykernel)",
   "language": "python",
   "name": "python3"
  },
  "language_info": {
   "codemirror_mode": {
    "name": "ipython",
    "version": 3
   },
   "file_extension": ".py",
   "mimetype": "text/x-python",
   "name": "python",
   "nbconvert_exporter": "python",
   "pygments_lexer": "ipython3",
   "version": "3.10.4"
  }
 },
 "nbformat": 4,
 "nbformat_minor": 5
}
